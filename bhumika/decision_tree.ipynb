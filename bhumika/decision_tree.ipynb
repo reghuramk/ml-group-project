{
 "cells": [
  {
   "cell_type": "code",
   "execution_count": 13,
   "metadata": {},
   "outputs": [
    {
     "name": "stdout",
     "output_type": "stream",
     "text": [
      "Accuracy: 0.8596\n",
      "Balanced Accuracy: 0.8575\n",
      "ROC-AUC: 0.9529\n",
      "\n",
      "Confusion Matrix:\n",
      " [[1266    0   23   10    2   19   17    0   18   10]\n",
      " [   2 1555   13    9   21    7    0    8   16    6]\n",
      " [  26   15 1175   24   20   10   24   41   48   18]\n",
      " [  18    8   32 1180    6   82    6   57   32   34]\n",
      " [   2    4   15   10 1160   19   16   16   24  114]\n",
      " [  16   26   18   82   17  964   26    6   40   24]\n",
      " [  20    2   31   15   19   27 1172    3   24    4]\n",
      " [   4    8   32    7   16   10    2 1288    7   46]\n",
      " [  10   33   56   47   20   28   16   11 1085   73]\n",
      " [   8    6   18   27   62   36   11   51   19 1189]]\n",
      "\n",
      "Classification Report:\n",
      "               precision    recall  f1-score   support\n",
      "\n",
      "           0       0.92      0.93      0.93      1365\n",
      "           1       0.94      0.95      0.94      1637\n",
      "           2       0.83      0.84      0.84      1401\n",
      "           3       0.84      0.81      0.82      1455\n",
      "           4       0.86      0.84      0.85      1380\n",
      "           5       0.80      0.79      0.80      1219\n",
      "           6       0.91      0.89      0.90      1317\n",
      "           7       0.87      0.91      0.89      1420\n",
      "           8       0.83      0.79      0.81      1379\n",
      "           9       0.78      0.83      0.81      1427\n",
      "\n",
      "    accuracy                           0.86     14000\n",
      "   macro avg       0.86      0.86      0.86     14000\n",
      "weighted avg       0.86      0.86      0.86     14000\n",
      "\n"
     ]
    }
   ],
   "source": [
    "# importing libraries\n",
    "from sklearn.datasets import fetch_openml\n",
    "from sklearn.model_selection import train_test_split\n",
    "from sklearn.tree import DecisionTreeClassifier\n",
    "from sklearn.metrics import accuracy_score, balanced_accuracy_score, roc_auc_score, confusion_matrix, classification_report\n",
    "from sklearn.preprocessing import label_binarize\n",
    "\n",
    "# loading digit dataset\n",
    "data_set = fetch_openml('mnist_784', version=1)\n",
    "X, Y = data_set.data / 255.0, data_set.target.astype(int)\n",
    "Y_bin = label_binarize(Y, classes=np.unique(Y))\n",
    "\n",
    "\n",
    "X_train, X_test, Y_train, Y_test, Y_bin_train, Y_bin_test = train_test_split(X, Y, Y_bin, test_size=0.2, random_state=72)\n",
    "\n",
    "\n",
    "clf = DecisionTreeClassifier(max_depth=10, random_state=72)\n",
    "clf.fit(X_train, Y_train)\n",
    "\n",
    "# different evaluatiion methods\n",
    "Y_pred = clf.predict(X_test)\n",
    "Y_prob = clf.predict_proba(X_test)\n",
    "print(f\"Accuracy: {accuracy_score(Y_test, Y_pred):.4f}\")\n",
    "print(f\"Balanced Accuracy: {balanced_accuracy_score(Y_test, Y_pred):.4f}\")\n",
    "print(f\"ROC-AUC: {roc_auc_score(Y_bin_test, Y_prob, multi_class='ovr'):.4f}\")\n",
    "print(\"\\nConfusion Matrix:\\n\", confusion_matrix(Y_test, Y_pred))\n",
    "print(\"\\nClassification Report:\\n\", classification_report(Y_test, Y_pred))\n",
    "\n",
    "\n"
   ]
  }
 ],
 "metadata": {
  "kernelspec": {
   "display_name": "Python 3",
   "language": "python",
   "name": "python3"
  },
  "language_info": {
   "codemirror_mode": {
    "name": "ipython",
    "version": 3
   },
   "file_extension": ".py",
   "mimetype": "text/x-python",
   "name": "python",
   "nbconvert_exporter": "python",
   "pygments_lexer": "ipython3",
   "version": "3.13.2"
  }
 },
 "nbformat": 4,
 "nbformat_minor": 2
}
