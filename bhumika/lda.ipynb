{
 "cells": [
  {
   "cell_type": "code",
   "execution_count": null,
   "metadata": {},
   "outputs": [],
   "source": []
  },
  {
   "cell_type": "code",
   "execution_count": null,
   "metadata": {},
   "outputs": [
    {
     "name": "stdout",
     "output_type": "stream",
     "text": [
      "Accuracy: 0.9528\n",
      "Balanced Accuracy: 0.9527\n",
      "ROC-AUC Score: 0.9983\n",
      "\n",
      "Classification Report:\n",
      "               precision    recall  f1-score   support\n",
      "\n",
      "           0       1.00      0.97      0.99        36\n",
      "           1       0.92      0.97      0.95        36\n",
      "           2       1.00      0.94      0.97        35\n",
      "           3       0.97      0.97      0.97        37\n",
      "           4       1.00      0.94      0.97        36\n",
      "           5       0.97      0.92      0.94        37\n",
      "           6       0.97      1.00      0.99        36\n",
      "           7       1.00      0.97      0.99        36\n",
      "           8       0.86      0.91      0.89        35\n",
      "           9       0.85      0.92      0.88        36\n",
      "\n",
      "    accuracy                           0.95       360\n",
      "   macro avg       0.95      0.95      0.95       360\n",
      "weighted avg       0.96      0.95      0.95       360\n",
      "\n",
      "\n",
      "Confusion Matrix:\n",
      " [[35  0  0  0  0  0  1  0  0  0]\n",
      " [ 0 35  0  0  0  0  0  0  0  1]\n",
      " [ 0  1 33  1  0  0  0  0  0  0]\n",
      " [ 0  0  0 36  0  0  0  0  1  0]\n",
      " [ 0  0  0  0 34  0  0  0  1  1]\n",
      " [ 0  0  0  0  0 34  0  0  0  3]\n",
      " [ 0  0  0  0  0  0 36  0  0  0]\n",
      " [ 0  0  0  0  0  0  0 35  0  1]\n",
      " [ 0  2  0  0  0  1  0  0 32  0]\n",
      " [ 0  0  0  0  0  0  0  0  3 33]]\n"
     ]
    }
   ],
   "source": [
    "# importing libraries\n",
    "import numpy as np\n",
    "import matplotlib.pyplot as plt\n",
    "from sklearn import datasets\n",
    "from sklearn.discriminant_analysis import LinearDiscriminantAnalysis\n",
    "from sklearn.model_selection import train_test_split, GridSearchCV \n",
    "from sklearn.metrics import accuracy_score, balanced_accuracy_score, confusion_matrix, classification_report, roc_auc_score\n",
    "from sklearn.preprocessing import label_binarize \n",
    "\n",
    "# loading digit dataset\n",
    "data_set = datasets.load_digits()\n",
    "X, Y = data_set.data, data_set.target\n",
    "Y_bin = label_binarize(Y, classes=np.unique(Y))  \n",
    "\n",
    "# splitting data\n",
    "X_train, X_test, Y_train, Y_test, Y_bin_train, Y_bin_test = train_test_split(X, Y, Y_bin, test_size=0.2, random_state=72, stratify=Y)\n",
    "\n",
    "# hyperparameter tuning\n",
    "param_grid = [{\"solver\": [\"svd\"]}, {\"solver\": [\"lsqr\", \"eigen\"], \"shrinkage\": [\"auto\"]}]\n",
    "grid_search = GridSearchCV(LinearDiscriminantAnalysis(), param_grid, cv=5, scoring=\"accuracy\", n_jobs=-1)\n",
    "grid_search.fit(X_train, Y_train)  # trains the model with the best parameters\n",
    "\n",
    "\n",
    "model_lda = grid_search.best_estimator_\n",
    "pred_lda = model_lda.predict(X_test)\n",
    "prob_lda = model_lda.predict_proba(X_test)\n",
    "\n",
    "# differnt evaluation methods\n",
    "roc_lda = roc_auc_score(Y_bin_test, prob_lda, multi_class='ovr')\n",
    "\n",
    "print(f\"Accuracy: {accuracy_score(Y_test, pred_lda):.4f}\")\n",
    "print(f\"Balanced Accuracy: {balanced_accuracy_score(Y_test, pred_lda):.4f}\")\n",
    "print(f\"ROC-AUC Score: {roc_lda:.4f}\")\n",
    "print(\"\\nClassification Report:\\n\", classification_report(Y_test, pred_lda))\n",
    "\n"
   ]
  }
 ],
 "metadata": {
  "kernelspec": {
   "display_name": "Python 3",
   "language": "python",
   "name": "python3"
  },
  "language_info": {
   "codemirror_mode": {
    "name": "ipython",
    "version": 3
   },
   "file_extension": ".py",
   "mimetype": "text/x-python",
   "name": "python",
   "nbconvert_exporter": "python",
   "pygments_lexer": "ipython3",
   "version": "3.13.2"
  }
 },
 "nbformat": 4,
 "nbformat_minor": 2
}
