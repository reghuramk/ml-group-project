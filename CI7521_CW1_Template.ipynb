{
  "cells": [
    {
      "cell_type": "markdown",
      "metadata": {
        "id": "GHKla251wzqs"
      },
      "source": [
        "# Coursework 1 Group (text)"
      ]
    },
    {
      "cell_type": "markdown",
      "metadata": {
        "id": "WEpvMZ72w_sa"
      },
      "source": [
        "Complete the following information\n",
        "\n",
        "Group number: ...\n",
        "\n",
        "Student names and k-numbers:\n",
        "1. ...\n",
        "2. ...\n",
        "3. ...\n",
        "4. ...\n",
        "\n",
        "\n",
        "\n",
        "\n"
      ]
    },
    {
      "cell_type": "markdown",
      "metadata": {
        "id": "1bB4y2t38MoG"
      },
      "source": [
        "# Load modules (code)"
      ]
    },
    {
      "cell_type": "code",
      "execution_count": 1,
      "metadata": {
        "id": "Kwn_9siuy7oS"
      },
      "outputs": [],
      "source": [
        "# add code for loading modules"
      ]
    },
    {
      "cell_type": "markdown",
      "metadata": {
        "id": "ytKXenzY9H2X"
      },
      "source": [
        "# Load data (code)"
      ]
    },
    {
      "cell_type": "code",
      "execution_count": null,
      "metadata": {
        "id": "5Cpm05eF9WU2"
      },
      "outputs": [],
      "source": [
        "# add code for loading data"
      ]
    },
    {
      "cell_type": "markdown",
      "metadata": {
        "id": "Ds2nwgc4-6fW"
      },
      "source": [
        "# Classification"
      ]
    },
    {
      "cell_type": "markdown",
      "metadata": {
        "id": "ulMsXj9C_URf"
      },
      "source": [
        "## Classification methods used (text)"
      ]
    },
    {
      "cell_type": "markdown",
      "metadata": {
        "id": "H2iaMuT8IEKZ"
      },
      "source": []
    },
    {
      "cell_type": "markdown",
      "metadata": {
        "id": "3sD3KL9J_cMw"
      },
      "source": [
        "Mention the classification methods used below. You should not describe them, but if they have not been discussed in the class, you should cite the source:\n",
        "\n",
        "\n",
        "1.   ...\n",
        "2.   ...\n",
        "3.   ...\n",
        "\n"
      ]
    },
    {
      "cell_type": "markdown",
      "metadata": {
        "id": "azwz2930HKu7"
      },
      "source": [
        "## Training (code)"
      ]
    },
    {
      "cell_type": "code",
      "execution_count": 4,
      "metadata": {
        "id": "TBCgkDaWHKv1"
      },
      "outputs": [],
      "source": [
        "#add code for training"
      ]
    },
    {
      "cell_type": "markdown",
      "metadata": {
        "id": "YnXrUB6yHKv5"
      },
      "source": [
        "## Evaluation (code)"
      ]
    },
    {
      "cell_type": "code",
      "execution_count": 5,
      "metadata": {
        "id": "nUIhvoYgHKv7"
      },
      "outputs": [],
      "source": [
        "#add code for evaluation"
      ]
    },
    {
      "cell_type": "markdown",
      "metadata": {
        "id": "Ow5hzq1vItvJ"
      },
      "source": [
        "# References (text)"
      ]
    },
    {
      "cell_type": "markdown",
      "metadata": {
        "id": "_d4gWJO3I1KM"
      },
      "source": [
        "List any references you may have used in your document before, using one of the established referencing system (e.g. IEEE, Harvard, etc)."
      ]
    }
  ],
  "metadata": {
    "colab": {
      "collapsed_sections": [
        "GHKla251wzqs",
        "1bB4y2t38MoG",
        "ytKXenzY9H2X",
        "ulMsXj9C_URf",
        "azwz2930HKu7",
        "YnXrUB6yHKv5",
        "Ow5hzq1vItvJ"
      ],
      "provenance": [],
      "toc_visible": true
    },
    "kernelspec": {
      "display_name": "Python 3",
      "name": "python3"
    },
    "language_info": {
      "name": "python"
    }
  },
  "nbformat": 4,
  "nbformat_minor": 0
}
