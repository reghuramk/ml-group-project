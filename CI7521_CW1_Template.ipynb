{
  "nbformat": 4,
  "nbformat_minor": 0,
  "metadata": {
    "colab": {
      "provenance": [],
      "collapsed_sections": [
        "GHKla251wzqs",
        "1bB4y2t38MoG",
        "ytKXenzY9H2X",
        "ulMsXj9C_URf",
        "azwz2930HKu7",
        "YnXrUB6yHKv5",
        "Ow5hzq1vItvJ"
      ],
      "toc_visible": true
    },
    "kernelspec": {
      "name": "python3",
      "display_name": "Python 3"
    },
    "language_info": {
      "name": "python"
    }
  },
  "cells": [
    {
      "cell_type": "markdown",
      "source": [
        "# Coursework 1 Group (text)"
      ],
      "metadata": {
        "id": "GHKla251wzqs"
      }
    },
    {
      "cell_type": "markdown",
      "source": [
        "Complete the following information\n",
        "\n",
        "Group number: ...\n",
        "\n",
        "Student names and k-numbers:\n",
        "1. ...\n",
        "2. ...\n",
        "3. ...\n",
        "4. ...\n",
        "\n",
        "\n",
        "\n",
        "\n"
      ],
      "metadata": {
        "id": "WEpvMZ72w_sa"
      }
    },
    {
      "cell_type": "markdown",
      "source": [
        "# Load modules (code)"
      ],
      "metadata": {
        "id": "1bB4y2t38MoG"
      }
    },
    {
      "cell_type": "code",
      "source": [
        "# add code for loading modules"
      ],
      "metadata": {
        "id": "Kwn_9siuy7oS"
      },
      "execution_count": 1,
      "outputs": []
    },
    {
      "cell_type": "markdown",
      "source": [
        "# Load data (code)"
      ],
      "metadata": {
        "id": "ytKXenzY9H2X"
      }
    },
    {
      "cell_type": "code",
      "source": [
        "# add code for loading data"
      ],
      "metadata": {
        "id": "5Cpm05eF9WU2"
      },
      "execution_count": null,
      "outputs": []
    },
    {
      "cell_type": "markdown",
      "source": [
        "# Classification"
      ],
      "metadata": {
        "id": "Ds2nwgc4-6fW"
      }
    },
    {
      "cell_type": "markdown",
      "source": [
        "## Classification methods used (text)"
      ],
      "metadata": {
        "id": "ulMsXj9C_URf"
      }
    },
    {
      "cell_type": "markdown",
      "source": [],
      "metadata": {
        "id": "H2iaMuT8IEKZ"
      }
    },
    {
      "cell_type": "markdown",
      "source": [
        "Mention the classification methods used below. You should not describe them, but if they have not been discussed in the class, you should cite the source:\n",
        "\n",
        "\n",
        "1.   ...\n",
        "2.   ...\n",
        "3.   ...\n",
        "\n"
      ],
      "metadata": {
        "id": "3sD3KL9J_cMw"
      }
    },
    {
      "cell_type": "markdown",
      "source": [
        "## Training (code)"
      ],
      "metadata": {
        "id": "azwz2930HKu7"
      }
    },
    {
      "cell_type": "code",
      "source": [
        "#add code for training"
      ],
      "metadata": {
        "id": "TBCgkDaWHKv1"
      },
      "execution_count": 4,
      "outputs": []
    },
    {
      "cell_type": "markdown",
      "source": [
        "## Evaluation (code)"
      ],
      "metadata": {
        "id": "YnXrUB6yHKv5"
      }
    },
    {
      "cell_type": "code",
      "source": [
        "#add code for evaluation"
      ],
      "metadata": {
        "id": "nUIhvoYgHKv7"
      },
      "execution_count": 5,
      "outputs": []
    },
    {
      "cell_type": "markdown",
      "source": [
        "# References (text)"
      ],
      "metadata": {
        "id": "Ow5hzq1vItvJ"
      }
    },
    {
      "cell_type": "markdown",
      "source": [
        "List any references you may have used in your document before, using one of the established referencing system (e.g. IEEE, Harvard, etc)."
      ],
      "metadata": {
        "id": "_d4gWJO3I1KM"
      }
    }
  ]
}