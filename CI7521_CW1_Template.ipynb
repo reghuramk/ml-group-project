{
  "cells": [
    {
      "cell_type": "markdown",
      "metadata": {
        "id": "GHKla251wzqs"
      },
      "source": [
        "# Coursework 1 Group (text)"
      ]
    },
    {
      "cell_type": "markdown",
      "metadata": {
        "id": "WEpvMZ72w_sa"
      },
      "source": [
        "Complete the following information\n",
        "\n",
        "Group number: ...\n",
        "\n",
        "Student names and k-numbers:\n",
        "1. Bhumika Reddy Kurubarahalli Sudharshan (K2463984)\n",
        "2. Pragati Priya (K2461276)\n",
        "3. Reghuram Karunamurthi (K2446531)\n",
        "4. Shreenidhi Dayanand Shetty (K2455943)"
      ]
    },
    {
      "cell_type": "markdown",
      "metadata": {
        "id": "1bB4y2t38MoG"
      },
      "source": [
        "# Load modules (code)"
      ]
    },
    {
      "cell_type": "code",
      "execution_count": null,
      "metadata": {
        "id": "Kwn_9siuy7oS"
      },
      "outputs": [],
      "source": [
        "# add code for loading modules\n",
        "\n",
        "import matplotlib.pyplot as plt\n",
        "import seaborn as sns\n",
        "from sklearn.model_selection import train_test_split\n",
        "from sklearn.preprocessing import StandardScaler\n",
        "from sklearn.tree import DecisionTreeClassifier\n",
        "from sklearn.metrics import (confusion_matrix, balanced_accuracy_score, roc_auc_score, accuracy_score)\n",
        "from sklearn.datasets import load_digits"
      ]
    },
    {
      "cell_type": "markdown",
      "metadata": {
        "id": "ytKXenzY9H2X"
      },
      "source": [
        "# Load data (code)"
      ]
    },
    {
      "cell_type": "code",
      "execution_count": null,
      "metadata": {
        "id": "5Cpm05eF9WU2"
      },
      "outputs": [],
      "source": [
        "# add code for loading data\n",
        "\n",
        "digits = load_digits()"
      ]
    },
    {
      "cell_type": "markdown",
      "metadata": {
        "id": "Ds2nwgc4-6fW"
      },
      "source": [
        "# Classification"
      ]
    },
    {
      "cell_type": "markdown",
      "metadata": {
        "id": "ulMsXj9C_URf"
      },
      "source": [
        "## Classification methods used (text)"
      ]
    },
    {
      "cell_type": "markdown",
      "metadata": {
        "id": "H2iaMuT8IEKZ"
      },
      "source": []
    },
    {
      "cell_type": "markdown",
      "metadata": {
        "id": "3sD3KL9J_cMw"
      },
      "source": [
        "Mention the classification methods used below. You should not describe them, but if they have not been discussed in the class, you should cite the source:\n",
        "\n",
        "\n",
        "1. Decision Tree Classifier\n",
        "2. Linear discriminant analysis (Kaggle,2024) (Ashraf, K. 2024)\n",
        "3. Logistic Regression (Madecraft and Galarnyk M., 2020) (Geron, 2017)\n",
        "4. Gaussian Naive Bayes (Analytics Vidhya, 2025) (Medium,2020)\n",
        "5. Support Vector Machine\n",
        "6. K-nearest neighbors (KNN) (Kaggle,2022) (Singh, B 2022)\n",
        "7. Random Forest (Metric Coders 2024)\n",
        "8. Quadratic Discriminant Analysis (Scikit Learn 2025)"
      ]
    },
    {
      "cell_type": "markdown",
      "metadata": {
        "id": "azwz2930HKu7"
      },
      "source": [
        "## Training (code)"
      ]
    },
    {
      "cell_type": "code",
      "execution_count": null,
      "metadata": {
        "id": "TBCgkDaWHKv1"
      },
      "outputs": [],
      "source": [
        "#add code for training\n",
        "\n",
        "# Decision Tree\n",
        "\n",
        "X_dt = digits.data\n",
        "Y_dt = digits.target\n",
        "\n",
        "# splitting training and testing data \n",
        "X_dt_train, X_dt_test, Y_dt_train, Y_dt_test = train_test_split(X_dt, Y_dt, test_size=0.2, random_state=72, shuffle=True)\n",
        "\n",
        "# standardize the features \n",
        "scaler = StandardScaler()\n",
        "X_dt_train = scaler.fit_transform(X_dt_train)\n",
        "X_dt_test = scaler.transform(X_dt_test)\n",
        "\n",
        "# defining the model\n",
        "model_dt = DecisionTreeClassifier() # (Scikit Learn 2025)\n",
        "\n",
        "# fit the model\n",
        "model_dt.fit(X_dt_train, Y_dt_train)\n"
      ]
    },
    {
      "cell_type": "markdown",
      "metadata": {
        "id": "YnXrUB6yHKv5"
      },
      "source": [
        "## Evaluation (code)"
      ]
    },
    {
      "cell_type": "code",
      "execution_count": 5,
      "metadata": {
        "id": "nUIhvoYgHKv7"
      },
      "outputs": [],
      "source": [
        "#add code for evaluation"
      ]
    },
    {
      "cell_type": "markdown",
      "metadata": {
        "id": "Ow5hzq1vItvJ"
      },
      "source": [
        "# References (text)"
      ]
    },
    {
      "cell_type": "markdown",
      "metadata": {
        "id": "_d4gWJO3I1KM"
      },
      "source": [
        "List any references you may have used in your document before, using one of the established referencing system (e.g. IEEE, Harvard, etc)."
      ]
    }
  ],
  "metadata": {
    "colab": {
      "collapsed_sections": [
        "GHKla251wzqs",
        "1bB4y2t38MoG",
        "ytKXenzY9H2X",
        "ulMsXj9C_URf",
        "azwz2930HKu7",
        "YnXrUB6yHKv5",
        "Ow5hzq1vItvJ"
      ],
      "provenance": [],
      "toc_visible": true
    },
    "kernelspec": {
      "display_name": "Python 3",
      "name": "python3"
    },
    "language_info": {
      "name": "python"
    }
  },
  "nbformat": 4,
  "nbformat_minor": 0
}
