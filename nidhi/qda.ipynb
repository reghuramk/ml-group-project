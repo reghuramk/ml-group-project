{
 "cells": [
  {
   "cell_type": "code",
   "execution_count": null,
   "metadata": {},
   "outputs": [
    {
     "ename": "SyntaxError",
     "evalue": "invalid non-printable character U+00A0 (907291881.py, line 67)",
     "output_type": "error",
     "traceback": [
      "\u001b[1;36m  Cell \u001b[1;32mIn[9], line 67\u001b[1;36m\u001b[0m\n\u001b[1;33m    plt.show()\u001b[0m\n\u001b[1;37m    ^\u001b[0m\n\u001b[1;31mSyntaxError\u001b[0m\u001b[1;31m:\u001b[0m invalid non-printable character U+00A0\n"
     ]
    }
   ],
   "source": [
    "# Import necessary libraries\n",
    "import numpy as np\n",
    "from sklearn.datasets import load_digits\n",
    "from sklearn.model_selection import train_test_split, GridSearchCV\n",
    "from sklearn.discriminant_analysis import QuadraticDiscriminantAnalysis\n",
    "from sklearn.metrics import roc_auc_score, balanced_accuracy_score, roc_curve, auc\n",
    "from sklearn.preprocessing import LabelBinarizer\n",
    "import matplotlib.pyplot as plt\n",
    "\n",
    "# Load the Digits dataset\n",
    "digits = load_digits()\n",
    "X = digits.data\n",
    "y = digits.target\n",
    "\n",
    "# Split data into training and testing sets\n",
    "X_train, X_test, y_train, y_test = train_test_split(X, y, test_size=0.3, random_state=42)\n",
    "\n",
    "# Check if there is more than one class in the training set\n",
    "if len(np.unique(y_train)) < 2:\n",
    "    print(\"Error: Training data must contain more than one class.\")\n",
    "else:\n",
    "    # Initialize the Quadratic Discriminant Analysis (QDA) model\n",
    "    qda = QuadraticDiscriminantAnalysis()\n",
    "\n",
    "    # Set up hyperparameter grid for tuning\n",
    "    param_grid = {\n",
    "        'reg_param': [0.0, 0.1, 0.5, 1.0],\n",
    "        'priors': [None, 'uniform']\n",
    "    }\n",
    "\n",
    "    # Perform grid search for hyperparameter tuning using 5-fold cross-validation\n",
    "    grid_search = GridSearchCV(estimator=qda, param_grid=param_grid, scoring='accuracy', cv=5)\n",
    "    grid_search.fit(X_train, y_train)\n",
    "\n",
    "    # Get the best QDA model after tuning\n",
    "    best_model = grid_search.best_estimator_\n",
    "\n",
    "    # Make predictions and calculate probabilities\n",
    "    predictions = best_model.predict(X_test)\n",
    "    pred_probs = best_model.predict_proba(X_test)\n",
    "\n",
    "    # Balanced Accuracy Score\n",
    "    balanced_acc = balanced_accuracy_score(y_test, predictions)\n",
    "    print(f'Balanced Accuracy: {balanced_acc:.4f}')\n",
    "\n",
    "    # One-hot encode the true labels for ROC AUC calculation\n",
    "    lb = LabelBinarizer()\n",
    "    y_test_bin = lb.fit_transform(y_test)\n",
    "    y_pred_bin = lb.transform(np.argmax(pred_probs, axis=1))  # Convert predictions to one-hot\n",
    "\n",
    "    # ROC AUC Score (multi-class)\n",
    "    roc_auc = roc_auc_score(y_test_bin, pred_probs, average='macro', multi_class='ovr')\n",
    "    print(f'ROC AUC: {roc_auc:.4f}')\n",
    "\n",
    "    # Compute ROC curve and plot it\n",
    "    fpr, tpr, thresholds = roc_curve(y_test_bin.ravel(), pred_probs.ravel())\n",
    "    roc_auc_value = auc(fpr, tpr)\n",
    "\n",
    "    # Plot ROC curve\n",
    "    plt.figure(figsize=(10, 6))\n",
    "    plt.plot(fpr, tpr, color='blue', label=f'ROC curve (AUC = {roc_auc_value:.2f})')\n",
    "    plt.plot([0, 1], [0, 1], color='gray', linestyle='--')\n",
    "    plt.title('ROC Curve')\n",
    "    plt.xlabel('False Positive Rate')\n",
    "    plt.ylabel('True Positive Rate')\n",
    "    plt.legend(loc='lower right')\n",
    "   plt.show()\n"
   ]
  },
  {
   "cell_type": "code",
   "execution_count": null,
   "metadata": {},
   "outputs": [
    {
     "ename": "SyntaxError",
     "evalue": "invalid non-printable character U+00A0 (4245057373.py, line 67)",
     "output_type": "error",
     "traceback": [
      "\u001b[1;36m  Cell \u001b[1;32mIn[6], line 67\u001b[1;36m\u001b[0m\n\u001b[1;33m    plt.show()\u001b[0m\n\u001b[1;37m    ^\u001b[0m\n\u001b[1;31mSyntaxError\u001b[0m\u001b[1;31m:\u001b[0m invalid non-printable character U+00A0\n"
     ]
    }
   ],
   "source": []
  }
 ],
 "metadata": {
  "kernelspec": {
   "display_name": "Python 3",
   "language": "python",
   "name": "python3"
  },
  "language_info": {
   "codemirror_mode": {
    "name": "ipython",
    "version": 3
   },
   "file_extension": ".py",
   "mimetype": "text/x-python",
   "name": "python",
   "nbconvert_exporter": "python",
   "pygments_lexer": "ipython3",
   "version": "3.13.1"
  }
 },
 "nbformat": 4,
 "nbformat_minor": 2
}
