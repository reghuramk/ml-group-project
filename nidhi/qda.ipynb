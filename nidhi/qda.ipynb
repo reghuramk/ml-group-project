{
 "cells": [
  {
   "cell_type": "code",
   "execution_count": null,
   "metadata": {},
   "outputs": [],
   "source": []
  },
  {
   "cell_type": "code",
   "execution_count": 13,
   "metadata": {},
   "outputs": [
    {
     "name": "stdout",
     "output_type": "stream",
     "text": [
      "Best reg_param found: 0.1\n",
      "Accuracy: 98.61%\n",
      "Balanced Accuracy: 98.54%\n",
      "Confusion Matrix:\n",
      "[[40  0  0  0  0  0  0  0  0  0]\n",
      " [ 0 32  0  0  0  0  0  0  0  0]\n",
      " [ 0  0 41  0  0  0  0  0  0  0]\n",
      " [ 0  0  0 29  0  1  0  0  0  0]\n",
      " [ 0  0  0  0 30  0  0  0  1  1]\n",
      " [ 0  0  0  0  0 36  0  0  0  0]\n",
      " [ 0  0  0  0  0  1 38  0  0  0]\n",
      " [ 0  0  0  0  0  0  0 31  0  0]\n",
      " [ 0  0  0  0  0  0  0  0 38  0]\n",
      " [ 0  0  0  0  0  0  0  1  0 40]]\n",
      "Classification Report:\n",
      "              precision    recall  f1-score   support\n",
      "\n",
      "           0       1.00      1.00      1.00        40\n",
      "           1       1.00      1.00      1.00        32\n",
      "           2       1.00      1.00      1.00        41\n",
      "           3       1.00      0.97      0.98        30\n",
      "           4       1.00      0.94      0.97        32\n",
      "           5       0.95      1.00      0.97        36\n",
      "           6       1.00      0.97      0.99        39\n",
      "           7       0.97      1.00      0.98        31\n",
      "           8       0.97      1.00      0.99        38\n",
      "           9       0.98      0.98      0.98        41\n",
      "\n",
      "    accuracy                           0.99       360\n",
      "   macro avg       0.99      0.99      0.99       360\n",
      "weighted avg       0.99      0.99      0.99       360\n",
      "\n"
     ]
    }
   ],
   "source": [
    "# Import  libraries\n",
    "import numpy as np\n",
    "from sklearn.model_selection import train_test_split\n",
    "from sklearn.decomposition import PCA\n",
    "from sklearn.discriminant_analysis import QuadraticDiscriminantAnalysis\n",
    "from sklearn.datasets import load_digits\n",
    "from sklearn.metrics import accuracy_score, balanced_accuracy_score, confusion_matrix, classification_report\n",
    "\n",
    "# Load the Digits dataset\n",
    "data_set = load_digits()\n",
    "\n",
    "# Prepare the data\n",
    "X = data_set.data\n",
    "Y = data_set.target\n",
    "\n",
    "# Split the data\n",
    "X_train, X_test, Y_train, Y_test = train_test_split(X, Y, test_size=0.2, random_state=72)\n",
    "pca = PCA(n_components=50)  \n",
    "X_train_pca = pca.fit_transform(X_train)\n",
    "X_test_pca = pca.transform(X_test)\n",
    "model_qda = QuadraticDiscriminantAnalysis()\n",
    "best_reg_param = None\n",
    "best_accuracy = 0\n",
    "for reg_param in np.logspace(-3, 0, 4):  \n",
    "    model_qda.set_params(reg_param=reg_param)\n",
    "    model_qda.fit(X_train_pca, Y_train)\n",
    "    accuracy = accuracy_score(Y_test, model_qda.predict(X_test_pca))\n",
    "    if accuracy > best_accuracy:\n",
    "        best_accuracy = accuracy\n",
    "        best_reg_param = reg_param\n",
    "print(f\"Best reg_param found: {best_reg_param}\")\n",
    "model_qda.set_params(reg_param=best_reg_param)\n",
    "model_qda.fit(X_train_pca, Y_train)\n",
    "pred_qda = model_qda.predict(X_test_pca)\n",
    "bal_acc_qda = balanced_accuracy_score(Y_test, pred_qda)\n",
    "print(f\"Accuracy: {accuracy_score(Y_test, pred_qda) * 100:.2f}%\")\n",
    "print(f\"Balanced Accuracy: {bal_acc_qda * 100:.2f}%\")\n",
    "print(\"Confusion Matrix:\")\n",
    "print(confusion_matrix(Y_test, pred_qda))\n",
    "print(\"Classification Report:\")\n",
    "print(classification_report(Y_test, pred_qda))\n",
    "roc_qda = None  \n"
   ]
  }
 ],
 "metadata": {
  "kernelspec": {
   "display_name": "Python 3",
   "language": "python",
   "name": "python3"
  },
  "language_info": {
   "codemirror_mode": {
    "name": "ipython",
    "version": 3
   },
   "file_extension": ".py",
   "mimetype": "text/x-python",
   "name": "python",
   "nbconvert_exporter": "python",
   "pygments_lexer": "ipython3",
   "version": "3.13.1"
  }
 },
 "nbformat": 4,
 "nbformat_minor": 2
}
